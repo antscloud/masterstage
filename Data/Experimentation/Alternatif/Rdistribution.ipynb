{
 "cells": [
  {
   "cell_type": "code",
   "execution_count": 25,
   "metadata": {
    "scrolled": true
   },
   "outputs": [],
   "source": [
    "library(\"ggplot2\")\n",
    "library(\"fitdistrplus\")"
   ]
  },
  {
   "cell_type": "code",
   "execution_count": 71,
   "metadata": {},
   "outputs": [
    {
     "ename": "ERROR",
     "evalue": "Error in fitdist(Volts[95:630], densfun = \"lnorm\"): l'argument \"distr\" est manquant, avec aucune valeur par défaut\n",
     "output_type": "error",
     "traceback": [
      "Error in fitdist(Volts[95:630], densfun = \"lnorm\"): l'argument \"distr\" est manquant, avec aucune valeur par défaut\nTraceback:\n",
      "1. fitdist(Volts[95:630], densfun = \"lnorm\")"
     ]
    }
   ],
   "source": [
    "df<-read.table(\"125_rouesable_graisse_200hz_1.csv\",skip = 47, header = F,sep = \",\")\n",
    "names(df)=c(\"Index\",\"Time\",\"Amps\",\"Volts\")\n",
    "Index <- df$Index\n",
    "Time <- df$Time\n",
    "Amps <- df$Amps\n",
    "Volts <- df$Volts\n",
    "\n",
    "fit <- fitdist(Volts[95:630], densfun=\"lnorm\")  # we assume my_data ~ Normal(?,?)\n",
    "fit"
   ]
  },
  {
   "cell_type": "code",
   "execution_count": 60,
   "metadata": {},
   "outputs": [],
   "source": [
    "# plotdist(Volts[95:630], histo = TRUE, demp = TRUE)\n",
    "# curve(x, fit$estimate[1], fit$estimate[2]), col=\"red\", lwd=2, add=T)"
   ]
  },
  {
   "cell_type": "code",
   "execution_count": 70,
   "metadata": {},
   "outputs": [
    {
     "data": {
      "image/png": "[encoded data removed]",
      "text/plain": [
       "Plot with title \"Histogram of Volts[95:630]\""
      ]
     },
     "metadata": {},
     "output_type": "display_data"
    }
   ],
   "source": [
    "options(repr.plot.width=5, repr.plot.height=4)\n",
    "hist(Volts[95:630],breaks=200,prob=FALSE)\n",
    "curve(dlnorm(x, fit$estimate[1], fit$estimate[2]), col=\"red\", lwd=2, add=T)"
   ]
  },
  {
   "cell_type": "markdown",
   "metadata": {},
   "source": []
  },
  {
   "cell_type": "code",
   "execution_count": 62,
   "metadata": {},
   "outputs": [],
   "source": [
    "?fitdistr"
   ]
  },
  {
   "cell_type": "code",
   "execution_count": null,
   "metadata": {},
   "outputs": [],
   "source": []
  }
 ],
 "metadata": {
  "kernelspec": {
   "display_name": "R",
   "language": "R",
   "name": "ir"
  },
  "language_info": {
   "codemirror_mode": "r",
   "file_extension": ".r",
   "mimetype": "text/x-r-source",
   "name": "R",
   "pygments_lexer": "r",
   "version": "3.6.0"
  }
 },
 "nbformat": 4,
 "nbformat_minor": 2
}
