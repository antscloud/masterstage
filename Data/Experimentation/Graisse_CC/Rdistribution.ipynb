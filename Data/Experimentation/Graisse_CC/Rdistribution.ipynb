{
 "cells": [
  {
   "cell_type": "code",
   "execution_count": 185,
   "metadata": {
    "scrolled": true
   },
   "outputs": [
    {
     "name": "stderr",
     "output_type": "stream",
     "text": [
      "\n",
      "Attaching package: 'flexsurv'\n",
      "\n",
      "The following objects are masked from 'package:VGAM':\n",
      "\n",
      "    dgompertz, pgompertz, qgompertz, rgompertz\n",
      "\n"
     ]
    }
   ],
   "source": [
    "library(\"ggplot2\")\n",
    "library(\"fitdistrplus\")\n",
    "library(\"repr\")\n",
    "library(\"evd\")\n",
    "library(\"VGAM\")\n",
    "library(\"flexsurv\")\n",
    "\n",
    "# Change plot size to 4 x 3\n",
    "options(repr.plot.width=4, repr.plot.height=3)"
   ]
  },
  {
   "cell_type": "code",
   "execution_count": 205,
   "metadata": {},
   "outputs": [
    {
     "data": {
      "text/html": [
       "<dl class=dl-horizontal>\n",
       "\t<dt>1-mle-lnorm</dt>\n",
       "\t\t<dd>2.56550836788403e-06</dd>\n",
       "\t<dt>2-mle-gamma</dt>\n",
       "\t\t<dd>0.000368749073426097</dd>\n",
       "\t<dt>3-mle-norm</dt>\n",
       "\t\t<dd>1.12926274400638e-232</dd>\n",
       "\t<dt>4-mle-logis</dt>\n",
       "\t\t<dd>6.20208412017976e-194</dd>\n",
       "\t<dt>5-mle-beta</dt>\n",
       "\t\t<dd>3.40009672584224e-05</dd>\n",
       "\t<dt>6-mle-weibull</dt>\n",
       "\t\t<dd>0.00299489716468375</dd>\n",
       "\t<dt>7-mle-gengamma</dt>\n",
       "\t\t<dd>0.00286663410297767</dd>\n",
       "</dl>\n"
      ],
      "text/latex": [
       "\\begin{description*}\n",
       "\\item[1-mle-lnorm] 2.56550836788403e-06\n",
       "\\item[2-mle-gamma] 0.000368749073426097\n",
       "\\item[3-mle-norm] 1.12926274400638e-232\n",
       "\\item[4-mle-logis] 6.20208412017976e-194\n",
       "\\item[5-mle-beta] 3.40009672584224e-05\n",
       "\\item[6-mle-weibull] 0.00299489716468375\n",
       "\\item[7-mle-gengamma] 0.00286663410297767\n",
       "\\end{description*}\n"
      ],
      "text/markdown": [
       "1-mle-lnorm\n",
       ":   2.56550836788403e-062-mle-gamma\n",
       ":   0.0003687490734260973-mle-norm\n",
       ":   1.12926274400638e-2324-mle-logis\n",
       ":   6.20208412017976e-1945-mle-beta\n",
       ":   3.40009672584224e-056-mle-weibull\n",
       ":   0.002994897164683757-mle-gengamma\n",
       ":   0.00286663410297767\n",
       "\n"
      ],
      "text/plain": [
       "   1-mle-lnorm    2-mle-gamma     3-mle-norm    4-mle-logis     5-mle-beta \n",
       "  2.565508e-06   3.687491e-04  1.129263e-232  6.202084e-194   3.400097e-05 \n",
       " 6-mle-weibull 7-mle-gengamma \n",
       "  2.994897e-03   2.866634e-03 "
      ]
     },
     "metadata": {},
     "output_type": "display_data"
    },
    {
     "data": {
      "text/html": [
       "<dl class=dl-horizontal>\n",
       "\t<dt>1-mle-lnorm</dt>\n",
       "\t\t<dd>'not rejected'</dd>\n",
       "\t<dt>2-mle-gamma</dt>\n",
       "\t\t<dd>'rejected'</dd>\n",
       "\t<dt>3-mle-norm</dt>\n",
       "\t\t<dd>'rejected'</dd>\n",
       "\t<dt>4-mle-logis</dt>\n",
       "\t\t<dd>'rejected'</dd>\n",
       "\t<dt>5-mle-beta</dt>\n",
       "\t\t<dd>'rejected'</dd>\n",
       "\t<dt>6-mle-weibull</dt>\n",
       "\t\t<dd>'not rejected'</dd>\n",
       "\t<dt>7-mle-gengamma</dt>\n",
       "\t\t<dd>'not rejected'</dd>\n",
       "</dl>\n"
      ],
      "text/latex": [
       "\\begin{description*}\n",
       "\\item[1-mle-lnorm] 'not rejected'\n",
       "\\item[2-mle-gamma] 'rejected'\n",
       "\\item[3-mle-norm] 'rejected'\n",
       "\\item[4-mle-logis] 'rejected'\n",
       "\\item[5-mle-beta] 'rejected'\n",
       "\\item[6-mle-weibull] 'not rejected'\n",
       "\\item[7-mle-gengamma] 'not rejected'\n",
       "\\end{description*}\n"
      ],
      "text/markdown": [
       "1-mle-lnorm\n",
       ":   'not rejected'2-mle-gamma\n",
       ":   'rejected'3-mle-norm\n",
       ":   'rejected'4-mle-logis\n",
       ":   'rejected'5-mle-beta\n",
       ":   'rejected'6-mle-weibull\n",
       ":   'not rejected'7-mle-gengamma\n",
       ":   'not rejected'\n",
       "\n"
      ],
      "text/plain": [
       "   1-mle-lnorm    2-mle-gamma     3-mle-norm    4-mle-logis     5-mle-beta \n",
       "\"not rejected\"     \"rejected\"     \"rejected\"     \"rejected\"     \"rejected\" \n",
       " 6-mle-weibull 7-mle-gengamma \n",
       "\"not rejected\" \"not rejected\" "
      ]
     },
     "metadata": {},
     "output_type": "display_data"
    }
   ],
   "source": [
    "df<-read.table(\"125_cc_1mA_graisse_postethanol_9.csv\",skip = 47, header = F,sep = \",\")\n",
    "names(df)=c(\"Index\",\"Time\",\"Amps\",\"Volts\")\n",
    "Index <- df$Index\n",
    "Time <- df$Time\n",
    "Amps <- df$Amps\n",
    "Volts <- df$Volts\n",
    "#Name<- list(\"norm\", \"lnorm\", \"exp\" , \"pois\", \"cauchy\", \"gamma\", \"logis\", \"nbinom\", \"geom\", \"beta\", \"weibull\" , \"invgamma\",\"llogis\", \"invweibull\", \"pareto1\", \"pareto\", \"lgamma\", \"trgamma\", \"invtrgamma\" )\n",
    "fit1 <- fitdist(abs(Volts[75:575]),  \"lnorm\")  # we assume my_data ~ Normal(?,?)\n",
    "fit2 <- fitdist(abs(Volts[75:575]), \"gamma\")\n",
    "fit3 <- fitdist(abs(Volts[75:575]), \"norm\")  # we assume my_data ~ Normal(?,?)\n",
    "fit4 <- fitdist(abs(Volts[75:575]), \"logis\")\n",
    "fit5 <- fitdist(abs(Volts[75:575]), \"beta\")  # we assume my_data ~ Normal(?,?)\n",
    "fit6 <- fitdist(abs(Volts[75:575]), \"weibull\")\n",
    "fit7 <- fitdist(abs(Volts[75:575]), dgengamma,start=list(mu=0.1,sigma=0.1,Q=0.1))\n",
    "fw<-gofstat(list(fit1,fit2,fit3,fit4,fit5,fit6,fit7))\n",
    "fw$chisqpvalue\n",
    "fw$kstest"
   ]
  },
  {
   "cell_type": "code",
   "execution_count": 183,
   "metadata": {},
   "outputs": [
    {
     "data": {
      "image/png": "[encoded data removed]",
      "text/plain": [
       "plot without title"
      ]
     },
     "metadata": {},
     "output_type": "display_data"
    }
   ],
   "source": [
    "plot(Time[75:575],Volts[75:575])"
   ]
  },
  {
   "cell_type": "code",
   "execution_count": 184,
   "metadata": {},
   "outputs": [
    {
     "data": {
      "image/png": "[encoded data removed]",
      "text/plain": [
       "Plot with title \"Histogram of Volts[75:575]\""
      ]
     },
     "metadata": {},
     "output_type": "display_data"
    },
    {
     "data": {
      "image/png": "[encoded data removed]",
      "text/plain": [
       "plot without title"
      ]
     },
     "metadata": {},
     "output_type": "display_data"
    }
   ],
   "source": [
    "\n",
    "# curve(x, fit$estimate[1], fit$estimate[2]), col=\"red\", lwd=2, add=T)\n",
    "par(cex=0.6)\n",
    "hist(Volts[75:575],breaks=200,prob=TRUE)\n",
    "curve(dweibull(x, fit6$estimate[1], fit6$estimate[2]), col=\"red\", lwd=2,, add=T)\n",
    "a<-75\n",
    "b<-575\n",
    "plot(Time[a:b],Volts[a:b])\n",
    "# plotdist(Volts[95:630], histo = TRUE, demp = TRUE)"
   ]
  },
  {
   "cell_type": "markdown",
   "metadata": {},
   "source": []
  },
  {
   "cell_type": "code",
   "execution_count": 20,
   "metadata": {},
   "outputs": [],
   "source": [
    "?fitdist"
   ]
  },
  {
   "cell_type": "code",
   "execution_count": 69,
   "metadata": {},
   "outputs": [],
   "source": [
    "Norm <- rnorm(10000, 1, 0.25)"
   ]
  },
  {
   "cell_type": "code",
   "execution_count": 196,
   "metadata": {},
   "outputs": [
    {
     "data": {
      "image/png": "[encoded data removed]",
      "text/plain": [
       "Plot with title \"Histogram of Volts[120:500]\""
      ]
     },
     "metadata": {},
     "output_type": "display_data"
    },
    {
     "data": {
      "image/png": "[encoded data removed]",
      "text/plain": [
       "plot without title"
      ]
     },
     "metadata": {},
     "output_type": "display_data"
    }
   ],
   "source": [
    "\n",
    "# curve(x, fit$estimate[1], fit$estimate[2]), col=\"red\", lwd=2, add=T)\n",
    "par(cex=0.6)\n",
    "hist(Volts[120:500],breaks=200,prob=TRUE)\n",
    "curve(dweibull(x, fit6$estimate[1], fit6$estimate[2]), col=\"red\", lwd=2,, add=T)\n",
    "curve(dlnorm(x, fit1$estimate[1], fit1$estimate[2]), col=\"green\", lwd=2,, add=T)\n",
    "curve(dgengamma(x, fit7$estimate[1], fit7$estimate[2],fit7$estimate[3]), col=\"blue\", lwd=2,, add=T)\n",
    "a<-120\n",
    "b<-500\n",
    "plot(Time[a:b],Volts[a:b])\n",
    "# plotdist(Volts[95:630], histo = TRUE, demp = TRUE)"
   ]
  },
  {
   "cell_type": "code",
   "execution_count": 86,
   "metadata": {},
   "outputs": [
    {
     "data": {
      "text/html": [
       "<strong>1-mle-norm:</strong> 'not rejected'"
      ],
      "text/latex": [
       "\\textbf{1-mle-norm:} 'not rejected'"
      ],
      "text/markdown": [
       "**1-mle-norm:** 'not rejected'"
      ],
      "text/plain": [
       "    1-mle-norm \n",
       "\"not rejected\" "
      ]
     },
     "metadata": {},
     "output_type": "display_data"
    }
   ],
   "source": [
    "fw<-gofstat(fit)\n",
    "fw$kstest"
   ]
  },
  {
   "cell_type": "code",
   "execution_count": 122,
   "metadata": {},
   "outputs": [
    {
     "data": {
      "text/html": [
       "<pre class=language-r><code>function (x, loc = 0, scale = 1, log = FALSE) \n",
       "{\n",
       "<span style=white-space:pre-wrap>    dgev(x, loc = loc, scale = scale, shape = 0, log = log)</span>\n",
       "}</code></pre>"
      ],
      "text/latex": [
       "\\begin{minted}{r}\n",
       "function (x, loc = 0, scale = 1, log = FALSE) \n",
       "\\{\n",
       "    dgev(x, loc = loc, scale = scale, shape = 0, log = log)\n",
       "\\}\n",
       "\\end{minted}"
      ],
      "text/markdown": [
       "```r\n",
       "function (x, loc = 0, scale = 1, log = FALSE) \n",
       "{\n",
       "    dgev(x, loc = loc, scale = scale, shape = 0, log = log)\n",
       "}\n",
       "```"
      ],
      "text/plain": [
       "function (x, loc = 0, scale = 1, log = FALSE) \n",
       "{\n",
       "    dgev(x, loc = loc, scale = scale, shape = 0, log = log)\n",
       "}\n",
       "<bytecode: 0x000000002a40e150>\n",
       "<environment: namespace:evd>"
      ]
     },
     "metadata": {},
     "output_type": "display_data"
    }
   ],
   "source": [
    "dgumbel(x, loc= 0, scale = 1, log = FALSE)"
   ]
  },
  {
   "cell_type": "code",
   "execution_count": null,
   "metadata": {},
   "outputs": [],
   "source": []
  }
 ],
 "metadata": {
  "kernelspec": {
   "display_name": "R",
   "language": "R",
   "name": "ir"
  },
  "language_info": {
   "codemirror_mode": "r",
   "file_extension": ".r",
   "mimetype": "text/x-r-source",
   "name": "R",
   "pygments_lexer": "r",
   "version": "3.6.0"
  }
 },
 "nbformat": 4,
 "nbformat_minor": 2
}
