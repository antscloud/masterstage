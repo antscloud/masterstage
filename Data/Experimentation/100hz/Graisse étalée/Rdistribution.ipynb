{
 "cells": [
  {
   "cell_type": "code",
   "execution_count": 2,
   "metadata": {
    "scrolled": true
   },
   "outputs": [],
   "source": [
    "library(\"ggplot2\")\n",
    "library(\"fitdistrplus\")\n",
    "library(\"repr\")\n",
    "library(\"evd\")\n",
    "library(\"VGAM\")\n",
    "\n",
    "# Change plot size to 4 x 3\n",
    "options(repr.plot.width=4, repr.plot.height=3)"
   ]
  },
  {
   "cell_type": "code",
   "execution_count": 34,
   "metadata": {},
   "outputs": [
    {
     "data": {
      "text/html": [
       "<dl class=dl-horizontal>\n",
       "\t<dt>1-mle-lnorm</dt>\n",
       "\t\t<dd>0.119362378571653</dd>\n",
       "\t<dt>2-mle-gamma</dt>\n",
       "\t\t<dd>1.07428994382749e-17</dd>\n",
       "\t<dt>3-mle-norm</dt>\n",
       "\t\t<dd>0</dd>\n",
       "\t<dt>4-mle-weibull</dt>\n",
       "\t\t<dd>4.40771929094034e-17</dd>\n",
       "</dl>\n"
      ],
      "text/latex": [
       "\\begin{description*}\n",
       "\\item[1-mle-lnorm] 0.119362378571653\n",
       "\\item[2-mle-gamma] 1.07428994382749e-17\n",
       "\\item[3-mle-norm] 0\n",
       "\\item[4-mle-weibull] 4.40771929094034e-17\n",
       "\\end{description*}\n"
      ],
      "text/markdown": [
       "1-mle-lnorm\n",
       ":   0.1193623785716532-mle-gamma\n",
       ":   1.07428994382749e-173-mle-norm\n",
       ":   04-mle-weibull\n",
       ":   4.40771929094034e-17\n",
       "\n"
      ],
      "text/plain": [
       "  1-mle-lnorm   2-mle-gamma    3-mle-norm 4-mle-weibull \n",
       " 1.193624e-01  1.074290e-17  0.000000e+00  4.407719e-17 "
      ]
     },
     "metadata": {},
     "output_type": "display_data"
    },
    {
     "data": {
      "text/html": [
       "<dl class=dl-horizontal>\n",
       "\t<dt>1-mle-lnorm</dt>\n",
       "\t\t<dd>'not rejected'</dd>\n",
       "\t<dt>2-mle-gamma</dt>\n",
       "\t\t<dd>'rejected'</dd>\n",
       "\t<dt>3-mle-norm</dt>\n",
       "\t\t<dd>'rejected'</dd>\n",
       "\t<dt>4-mle-weibull</dt>\n",
       "\t\t<dd>'rejected'</dd>\n",
       "</dl>\n"
      ],
      "text/latex": [
       "\\begin{description*}\n",
       "\\item[1-mle-lnorm] 'not rejected'\n",
       "\\item[2-mle-gamma] 'rejected'\n",
       "\\item[3-mle-norm] 'rejected'\n",
       "\\item[4-mle-weibull] 'rejected'\n",
       "\\end{description*}\n"
      ],
      "text/markdown": [
       "1-mle-lnorm\n",
       ":   'not rejected'2-mle-gamma\n",
       ":   'rejected'3-mle-norm\n",
       ":   'rejected'4-mle-weibull\n",
       ":   'rejected'\n",
       "\n"
      ],
      "text/plain": [
       "   1-mle-lnorm    2-mle-gamma     3-mle-norm  4-mle-weibull \n",
       "\"not rejected\"     \"rejected\"     \"rejected\"     \"rejected\" "
      ]
     },
     "metadata": {},
     "output_type": "display_data"
    }
   ],
   "source": [
    "df<-read.table(\"125_3_ethanol.csv\",skip = 47, header = F,sep = \",\")\n",
    "names(df)=c(\"Index\",\"Time\",\"Amps\",\"Volts\")\n",
    "Index <- df$Index\n",
    "Time <- df$Time\n",
    "Amps <- df$Amps\n",
    "Volts <- df$Volts\n",
    "#Name<- list(\"norm\", \"lnorm\", \"exp\" , \"pois\", \"cauchy\", \"gamma\", \"logis\", \"nbinom\", \"geom\", \"beta\", \"weibull\" , \"invgamma\",\"llogis\", \"invweibull\", \"pareto1\", \"pareto\", \"lgamma\", \"trgamma\", \"invtrgamma\" )\n",
    "fit1 <- fitdist(abs(Volts[120:630]),  \"lnorm\")  # we assume my_data ~ Normal(?,?)\n",
    "fit2 <- fitdist(abs(Volts[120:630]), \"gamma\")\n",
    "fit3 <- fitdist(abs(Volts[120:630]), \"norm\")  # we assume my_data ~ Normal(?,?)\n",
    "fit6 <- fitdist(abs(Volts[120:630]), \"weibull\")\n",
    "fw<-gofstat(list(fit1,fit2,fit3,fit6))\n",
    "fw$chisqpvalue\n",
    "fw$kstest"
   ]
  },
  {
   "cell_type": "code",
   "execution_count": 13,
   "metadata": {},
   "outputs": [
    {
     "data": {
      "image/png": "[encoded data removed]",
      "text/plain": [
       "plot without title"
      ]
     },
     "metadata": {},
     "output_type": "display_data"
    }
   ],
   "source": [
    "plot(Time[120:630],Volts[120:630])"
   ]
  },
  {
   "cell_type": "code",
   "execution_count": 36,
   "metadata": {},
   "outputs": [
    {
     "data": {
      "image/png": "[encoded data removed]",
      "text/plain": [
       "Plot with title \"Histogram of Volts[75:575]\""
      ]
     },
     "metadata": {},
     "output_type": "display_data"
    },
    {
     "data": {
      "image/png": "[encoded data removed]",
      "text/plain": [
       "plot without title"
      ]
     },
     "metadata": {},
     "output_type": "display_data"
    }
   ],
   "source": [
    "\n",
    "# curve(x, fit$estimate[1], fit$estimate[2]), col=\"red\", lwd=2, add=T)\n",
    "par(cex=0.6)\n",
    "hist(Volts[75:575],breaks=200,prob=TRUE)\n",
    "curve(dweibull(x, fit6$estimate[1], fit6$estimate[2]), col=\"red\", lwd=2,, add=T)\n",
    "curve(dlnorm(x, fit1$estimate[1], fit1$estimate[2]), col=\"green\", lwd=2,, add=T)\n",
    "a<-75\n",
    "b<-575\n",
    "plot(Time[a:b],Volts[a:b])\n",
    "# plotdist(Volts[95:630], histo = TRUE, demp = TRUE)"
   ]
  },
  {
   "cell_type": "markdown",
   "metadata": {},
   "source": []
  },
  {
   "cell_type": "code",
   "execution_count": 20,
   "metadata": {},
   "outputs": [],
   "source": [
    "?fitdist"
   ]
  },
  {
   "cell_type": "code",
   "execution_count": 69,
   "metadata": {},
   "outputs": [],
   "source": [
    "Norm <- rnorm(10000, 1, 0.25)"
   ]
  },
  {
   "cell_type": "code",
   "execution_count": 123,
   "metadata": {},
   "outputs": [
    {
     "name": "stderr",
     "output_type": "stream",
     "text": [
      "Warning message in checkparamlist(arg_startfix$start.arg, arg_startfix$fix.arg, :\n",
      "\"Some parameter names have no starting/fixed value but have a default value: shape.\"Warning message in fitdist(Norm, dfrechet, start = list(loc = 22.147, scale = 38.372)):\n",
      "\"The dfrechet function should return a vector of with NaN values when input has inconsistent parameters and not raise an error\"Warning message in fitdist(Norm, dfrechet, start = list(loc = 22.147, scale = 38.372)):\n",
      "\"The pfrechet function should return a vector of with NaN values when input has inconsistent parameters and not raise an error\""
     ]
    },
    {
     "name": "stdout",
     "output_type": "stream",
     "text": [
      "<simpleError in optim(par = vstart, fn = fnobj, fix.arg = fix.arg, obs = data,     gr = gradient, ddistnam = ddistname, hessian = TRUE, method = meth,     lower = lower, upper = upper, ...): la fonction ne peut être évaluée aux paramètres initiaux>\n"
     ]
    },
    {
     "ename": "ERROR",
     "evalue": "Error in fitdist(Norm, dfrechet, start = list(loc = 22.147, scale = 38.372)): the function mle failed to estimate the parameters, \n                with the error code 100\n\n",
     "output_type": "error",
     "traceback": [
      "Error in fitdist(Norm, dfrechet, start = list(loc = 22.147, scale = 38.372)): the function mle failed to estimate the parameters, \n                with the error code 100\n\nTraceback:\n",
      "1. fitdist(Norm, dfrechet, start = list(loc = 22.147, scale = 38.372))",
      "2. stop(\"the function mle failed to estimate the parameters, \\n                with the error code \", \n .     mle$convergence, \"\\n\")"
     ]
    },
    {
     "data": {
      "image/png": "[encoded data removed]",
      "text/plain": [
       "Plot with title \"Histogram of Norm\""
      ]
     },
     "metadata": {},
     "output_type": "display_data"
    }
   ],
   "source": [
    "hist(Norm,breaks=200,prob=TRUE)\n",
    "fit <- fitdist(Norm, dfrechet,start=list(loc=22.147, scale= 38.372))\n",
    "curve(dnorm(x, fit$estimate[1], fit$estimate[2]), col=\"red\", lwd=2,, add=T)"
   ]
  },
  {
   "cell_type": "code",
   "execution_count": 86,
   "metadata": {},
   "outputs": [
    {
     "data": {
      "text/html": [
       "<strong>1-mle-norm:</strong> 'not rejected'"
      ],
      "text/latex": [
       "\\textbf{1-mle-norm:} 'not rejected'"
      ],
      "text/markdown": [
       "**1-mle-norm:** 'not rejected'"
      ],
      "text/plain": [
       "    1-mle-norm \n",
       "\"not rejected\" "
      ]
     },
     "metadata": {},
     "output_type": "display_data"
    }
   ],
   "source": [
    "fw<-gofstat(fit)\n",
    "fw$kstest"
   ]
  },
  {
   "cell_type": "code",
   "execution_count": 122,
   "metadata": {},
   "outputs": [
    {
     "data": {
      "text/html": [
       "<pre class=language-r><code>function (x, loc = 0, scale = 1, log = FALSE) \n",
       "{\n",
       "<span style=white-space:pre-wrap>    dgev(x, loc = loc, scale = scale, shape = 0, log = log)</span>\n",
       "}</code></pre>"
      ],
      "text/latex": [
       "\\begin{minted}{r}\n",
       "function (x, loc = 0, scale = 1, log = FALSE) \n",
       "\\{\n",
       "    dgev(x, loc = loc, scale = scale, shape = 0, log = log)\n",
       "\\}\n",
       "\\end{minted}"
      ],
      "text/markdown": [
       "```r\n",
       "function (x, loc = 0, scale = 1, log = FALSE) \n",
       "{\n",
       "    dgev(x, loc = loc, scale = scale, shape = 0, log = log)\n",
       "}\n",
       "```"
      ],
      "text/plain": [
       "function (x, loc = 0, scale = 1, log = FALSE) \n",
       "{\n",
       "    dgev(x, loc = loc, scale = scale, shape = 0, log = log)\n",
       "}\n",
       "<bytecode: 0x000000002a40e150>\n",
       "<environment: namespace:evd>"
      ]
     },
     "metadata": {},
     "output_type": "display_data"
    }
   ],
   "source": [
    "dgumbel(x, loc= 0, scale = 1, log = FALSE)"
   ]
  },
  {
   "cell_type": "code",
   "execution_count": null,
   "metadata": {},
   "outputs": [],
   "source": []
  }
 ],
 "metadata": {
  "kernelspec": {
   "display_name": "R",
   "language": "R",
   "name": "ir"
  },
  "language_info": {
   "codemirror_mode": "r",
   "file_extension": ".r",
   "mimetype": "text/x-r-source",
   "name": "R",
   "pygments_lexer": "r",
   "version": "3.6.0"
  }
 },
 "nbformat": 4,
 "nbformat_minor": 2
}
