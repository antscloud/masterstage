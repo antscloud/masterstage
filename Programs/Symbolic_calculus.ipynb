{
 "cells": [
  {
   "cell_type": "code",
   "execution_count": 5,
   "metadata": {},
   "outputs": [],
   "source": [
    "from sympy import *\n",
    "x, mu, z,alpha = symbols('x mu z alpha')\n",
    "init_printing(use_unicode=True)"
   ]
  },
  {
   "cell_type": "code",
   "execution_count": 10,
   "metadata": {},
   "outputs": [
    {
     "data": {
      "image/png": "[encoded data removed]",
      "text/latex": [
       "$$\\frac{x^{2}}{\\alpha^{2} + \\mu} - 1 + \\frac{z^{2}}{\\mu}$$"
      ],
      "text/plain": [
       "   2          2\n",
       "  x          z \n",
       "────── - 1 + ──\n",
       " 2           μ \n",
       "α  + μ         "
      ]
     },
     "execution_count": 10,
     "metadata": {},
     "output_type": "execute_result"
    }
   ],
   "source": [
    "Eq=(x**2)/(alpha**2 + mu) +(z**2)/(mu)-1\n",
    "Eq"
   ]
  },
  {
   "cell_type": "code",
   "execution_count": 9,
   "metadata": {},
   "outputs": [
    {
     "data": {
      "image/png": "[encoded data removed]",
      "text/latex": [
       "$$\\left [ - \\frac{\\alpha^{2}}{2} + \\frac{x^{2}}{2} + \\frac{z^{2}}{2} - \\frac{\\sqrt{\\left(\\alpha^{2} - 2 \\alpha x + x^{2} + z^{2}\\right) \\left(\\alpha^{2} + 2 \\alpha x + x^{2} + z^{2}\\right)}}{2}, \\quad - \\frac{\\alpha^{2}}{2} + \\frac{x^{2}}{2} + \\frac{z^{2}}{2} + \\frac{\\sqrt{\\left(\\alpha^{2} - 2 \\alpha x + x^{2} + z^{2}\\right) \\left(\\alpha^{2} + 2 \\alpha x + x^{2} + z^{2}\\right)}}{2}\\right ]$$"
      ],
      "text/plain": [
       "⎡                    _______________________________________________          \n",
       "⎢   2    2    2     ╱ ⎛ 2            2    2⎞ ⎛ 2            2    2⎞      2    \n",
       "⎢  α    x    z    ╲╱  ⎝α  - 2⋅α⋅x + x  + z ⎠⋅⎝α  + 2⋅α⋅x + x  + z ⎠     α    x\n",
       "⎢- ── + ── + ── - ──────────────────────────────────────────────────, - ── + ─\n",
       "⎣  2    2    2                            2                             2    2\n",
       "\n",
       "            _______________________________________________⎤\n",
       "2    2     ╱ ⎛ 2            2    2⎞ ⎛ 2            2    2⎞ ⎥\n",
       "    z    ╲╱  ⎝α  - 2⋅α⋅x + x  + z ⎠⋅⎝α  + 2⋅α⋅x + x  + z ⎠ ⎥\n",
       "─ + ── + ──────────────────────────────────────────────────⎥\n",
       "    2                            2                         ⎦"
      ]
     },
     "execution_count": 9,
     "metadata": {},
     "output_type": "execute_result"
    }
   ],
   "source": [
    "solve(Eq,mu)"
   ]
  },
  {
   "cell_type": "code",
   "execution_count": null,
   "metadata": {},
   "outputs": [],
   "source": []
  }
 ],
 "metadata": {
  "kernelspec": {
   "display_name": "Python 3",
   "language": "python",
   "name": "python3"
  },
  "language_info": {
   "codemirror_mode": {
    "name": "ipython",
    "version": 3
   },
   "file_extension": ".py",
   "mimetype": "text/x-python",
   "name": "python",
   "nbconvert_exporter": "python",
   "pygments_lexer": "ipython3",
   "version": "3.7.1"
  }
 },
 "nbformat": 4,
 "nbformat_minor": 2
}
